{
 "cells": [
  {
   "cell_type": "code",
   "execution_count": null,
   "metadata": {},
   "outputs": [],
   "source": [
    "import argparse\n",
    "import gdown\n",
    "import cv2\n",
    "import numpy as np\n",
    "import os\n",
    "import sys\n",
    "sys.path.append(sys.path[0]+\"/tracker\")\n",
    "sys.path.append(sys.path[0]+\"/tracker/model\")\n",
    "from track_anything import TrackingAnything\n",
    "from track_anything import parse_augment\n",
    "import requests\n",
    "import json\n",
    "import torchvision\n",
    "import torch \n",
    "from tools.painter import mask_painter\n",
    "import psutil\n",
    "import time\n",
    "try: \n",
    "    from mmcv.cnn import ConvModule\n",
    "except:\n",
    "    os.system(\"mim install mmcv\")\n",
    "import matplotlib.pyplot as plt\n",
    "from pycocotools import mask as maskUtils"
   ]
  },
  {
   "cell_type": "code",
   "execution_count": null,
   "metadata": {},
   "outputs": [],
   "source": [
    "ovis_anotations = 'D:/HADA/data/OVIS/annotations/'\n",
    "ovis_images = 'D:/HADA/data/OVIS/train_images/'\n",
    "\n",
    "ovis_anotations = '../data.nosync/OVIS/annotations/'\n",
    "ovis_images = '../data.nosync/OVIS/train_images/'"
   ]
  },
  {
   "cell_type": "code",
   "execution_count": null,
   "metadata": {},
   "outputs": [],
   "source": [
    "with open(ovis_anotations + 'annotations_train.json') as f:\n",
    "        aa = json.load(f)\n"
   ]
  },
  {
   "cell_type": "code",
   "execution_count": null,
   "metadata": {},
   "outputs": [],
   "source": [
    "aa"
   ]
  },
  {
   "cell_type": "code",
   "execution_count": null,
   "metadata": {},
   "outputs": [],
   "source": [
    "def cargarDatos(ruta_ann):\n",
    "    with open(ruta_ann + 'annotations_train.json') as f:\n",
    "        annotationsTrain = json.load(f)\n",
    "\n",
    "    with open(ruta_ann + 'annotations_valid.json') as f:\n",
    "        annotationsValid = json.load(f)\n",
    "\n",
    "    with open(ruta_ann + 'annotations_test.json') as f:\n",
    "        annotationsTest = json.load(f)\n",
    "\n",
    "    clases = annotationsTrain['categories']\n",
    "    vidTrain = annotationsTrain['videos']\n",
    "    annTrain = annotationsTrain['annotations']\n",
    "    vidValid = annotationsValid['videos']\n",
    "    annValid = annotationsValid['annotations']\n",
    "    vidTest = annotationsTest['videos']\n",
    "    annTest = annotationsTest['annotations']\n",
    "\n",
    "    return clases, vidTrain, annTrain, vidValid, annValid, vidTest, annTest\n",
    "\n",
    "clases, vidTrain, annTrain, vidValid, annValid, vidTest, annTest = cargarDatos(ovis_anotations) "
   ]
  },
  {
   "cell_type": "code",
   "execution_count": null,
   "metadata": {},
   "outputs": [],
   "source": [
    "len(annTrain)"
   ]
  },
  {
   "cell_type": "code",
   "execution_count": null,
   "metadata": {},
   "outputs": [],
   "source": [
    "print(f'Train Dataset: Videos {len(vidTrain)}, Tamaño de anotaciones {len(annTrain)}.')\n",
    "print(f'Valid Dataset: Videos {len(vidValid)}, Tamaño de anotaciones {len(annValid) if annValid is not None else 0}.')\n",
    "print(f'Test Dataset: Videos {len(vidTest)}, Tamaño de anotaciones {len(annTest) if annTest is not None else 0}.')"
   ]
  },
  {
   "cell_type": "code",
   "execution_count": null,
   "metadata": {},
   "outputs": [],
   "source": [
    "def extractNames(videos):\n",
    "    vidTrainList = []\n",
    "    vidNum = []\n",
    "    for vid in videos:\n",
    "        vidTrainList.append(vid['file_names'][0].split('/')[0])\n",
    "        vidNum.append(vid['id'])\n",
    "    return vidTrainList, vidNum"
   ]
  },
  {
   "cell_type": "code",
   "execution_count": null,
   "metadata": {},
   "outputs": [],
   "source": [
    "vidTrainList, vidTrainNum = extractNames(vidTrain)\n",
    "vidValidList, vidValidNum = extractNames(vidValid)\n",
    "vidTestLits, vidTestNum = extractNames(vidTest)"
   ]
  },
  {
   "cell_type": "code",
   "execution_count": null,
   "metadata": {},
   "outputs": [],
   "source": [
    "annList = []\n",
    "for ann in annTrain:\n",
    "    annList.append(ann['video_id'])\n",
    "list(set(annList))[-1]"
   ]
  },
  {
   "cell_type": "code",
   "execution_count": null,
   "metadata": {},
   "outputs": [],
   "source": [
    "def annToRLE(ann, frameId):\n",
    "    \"\"\"\n",
    "    Convert annotation which can be polygons, uncompressed RLE to RLE.\n",
    "    :return: binary mask (numpy 2D array)\n",
    "    \"\"\"\n",
    "    h, w = ann['height'], ann['width']\n",
    "    segm = ann['segmentations'][frameId]\n",
    "    if segm is None:\n",
    "        return None\n",
    "    if type(segm) == \"list\":\n",
    "        # polygon -- a single object might consist of multiple parts\n",
    "        # we merge all parts into one mask rle code\n",
    "        rles = maskUtils.frPyObjects(segm, h, w)\n",
    "        rle = maskUtils.merge(rles)\n",
    "    elif type(segm['counts']) == \"list\":\n",
    "        # uncompressed RLE\n",
    "        rle = maskUtils.frPyObjects(segm, h, w)\n",
    "    else:\n",
    "        # rle\n",
    "        rle = segm\n",
    "    return rle\n",
    "\n",
    "\n",
    "def annToMask(ann, frameId):\n",
    "    \"\"\"\n",
    "    Convert annotation which can be polygons, uncompressed RLE, or RLE to binary mask.\n",
    "    :return: binary mask (numpy 2D array)\n",
    "    \"\"\"\n",
    "    rle = annToRLE(ann, frameId)\n",
    "    if rle is not None:\n",
    "        m = maskUtils.decode(rle)\n",
    "        return m\n",
    "\n",
    "\n",
    "\n",
    "def combineMasks(masks, width, height):\n",
    "    # Crear una matriz vacía para la máscara combinada\n",
    "    combined = np.zeros((height, width), dtype=np.uint8)\n",
    "\n",
    "    # Combinar las máscaras en la matriz vacía\n",
    "    for mask in masks:\n",
    "        combined += mask  # Sumar la máscara a la máscara combinada\n",
    "\n",
    "    # Aplicar umbral para obtener una única máscara binaria\n",
    "    combined = np.where(combined > 0, 1, 0)\n",
    "    return combined\n",
    "\n",
    "def unifyMasks(masks, width, height):\n",
    "    # Crear una matriz vacía para la máscara combinada\n",
    "    unified = np.zeros((height, width), dtype=np.uint8)\n",
    "\n",
    "    # Combinar las máscaras en la matriz vacía\n",
    "    for mask in masks:\n",
    "        unified += mask  # Sumar la máscara a la máscara combinada\n",
    "\n",
    "    \n",
    "    return unified"
   ]
  },
  {
   "cell_type": "code",
   "execution_count": null,
   "metadata": {},
   "outputs": [],
   "source": [
    "def load_images_from_folder(path,image_files):\n",
    "    images = []\n",
    "    for file in image_files:\n",
    "        img = cv2.imread(os.path.join(path,file))\n",
    "        img = cv2.cvtColor(img, cv2.COLOR_BGR2RGB)\n",
    "        images.append(img)\n",
    "    return images\n",
    "\n",
    "def load_all_initial_masks_from_dataset():\n",
    "    all_masks = []\n",
    "    for video in vidTrain:\n",
    "        ann = [a for a in annTrain if a['video_id'] == video['id']]\n",
    "        masks = [annToMask(a, 0) * (i + 1) for i, a in enumerate(ann) if annToMask(a, 0) is not None]\n",
    "        all_masks.append(unifyMasks(masks, video['width'], video['height']))\n",
    "    return all_masks\n",
    "\n",
    "def load_all_masks_for_video(video):\n",
    "    ann = [a for a in annTrain if a['video_id'] == video['id']]\n",
    "    all_masks  = []\n",
    "    for image_num in range(0,video['length']):\n",
    "        masks = []\n",
    "        for i, a in enumerate(ann):\n",
    "            annot = annToMask(a, image_num)\n",
    "            if annot is not None: masks.append(annot * (i + 1))\n",
    "        single_mask = unifyMasks(masks, video['width'], video['height'])\n",
    "        all_masks.append(single_mask)\n",
    "    return all_masks\n",
    "\n",
    "def generate_video_from_frames(frames, output_path, fps=30):\n",
    "    frames = torch.from_numpy(np.asarray(frames))\n",
    "    if not os.path.exists(os.path.dirname(output_path)):\n",
    "        os.makedirs(os.path.dirname(output_path))\n",
    "    torchvision.io.write_video(output_path, frames, fps=fps, video_codec=\"libx264\")\n",
    "    return output_path"
   ]
  },
  {
   "cell_type": "code",
   "execution_count": null,
   "metadata": {},
   "outputs": [],
   "source": [
    "def calculate_iou(mask1, mask2):\n",
    "    # Ensure both masks have the same shape\n",
    "    assert mask1.shape == mask2.shape, \"Mask shapes must be the same.\"\n",
    "\n",
    "    # Calculate intersection and union for each label\n",
    "    labels = np.unique(np.concatenate((mask1, mask2)))\n",
    "    intersection = np.zeros_like(mask1, dtype=np.float32)\n",
    "    union = np.zeros_like(mask1, dtype=np.float32)\n",
    "    iou_per_label = {}\n",
    "\n",
    "    for label in labels:\n",
    "        mask1_label = mask1 == label\n",
    "        mask2_label = mask2 == label\n",
    "        c_intersection = np.logical_and(mask1_label, mask2_label)\n",
    "        c_union = np.logical_or(mask1_label, mask2_label)\n",
    "        intersection += c_intersection\n",
    "        union += c_union\n",
    "        iou_per_label[label] = np.sum(c_intersection) / np.sum(c_union)\n",
    "\n",
    "    # Calculate IoU\n",
    "    iou = np.sum(intersection) / np.sum(union)\n",
    "\n",
    "    return iou, iou_per_label\n",
    "\n",
    "def compute_f_measure(mask1, mask2):\n",
    "    # Ensure both masks have the same shape\n",
    "    assert mask1.shape == mask2.shape, \"Mask shapes must be the same.\"\n",
    "\n",
    "    # Calculate F-measure for each label\n",
    "    labels = np.unique(np.concatenate((mask1, mask2)))\n",
    "    f_measure_per_label = {}\n",
    "\n",
    "    for label in labels:\n",
    "        mask1_label = mask1 == label\n",
    "        mask2_label = mask2 == label\n",
    "\n",
    "        true_positives = np.logical_and(mask1_label, mask2_label).sum()\n",
    "        false_positives = np.logical_and(mask1_label, np.logical_not(mask2_label)).sum()\n",
    "        false_negatives = np.logical_and(np.logical_not(mask1_label), mask2_label).sum()\n",
    "\n",
    "        precision = true_positives / (true_positives + false_positives)\n",
    "        recall = true_positives / (true_positives + false_negatives)\n",
    "\n",
    "        f_measure = 2 * (precision * recall) / (precision + recall)\n",
    "        f_measure_per_label[label] = f_measure\n",
    "\n",
    "    return f_measure_per_label"
   ]
  },
  {
   "cell_type": "code",
   "execution_count": null,
   "metadata": {},
   "outputs": [],
   "source": [
    "def run_model_on_ovis_set(model,path_set,videos, annotations, compute_metrics = False,save_masks = False, compute_video = False, verbose = True):\n",
    "    for video in videos:\n",
    "        # Load all images as np.array\n",
    "        if verbose: print('Loading dataset images')\n",
    "        images = load_images_from_folder(path_set,video['file_names'])\n",
    "\n",
    "        # Load al poligon of first image to a usable mask\n",
    "        if verbose: print('Creating first annotated mask for VOS model')\n",
    "        ann = [a for a in annotations if a['video_id'] == video['id']]\n",
    "        masks = [(annToMask(a, 0) * (i + 1)) for i, a in enumerate(ann)]\n",
    "        initial_mask = unifyMasks(masks, video['width'], video['height'])\n",
    "\n",
    "        #Compute masks for all images\n",
    "        if verbose:print('Computing all masks')\n",
    "        model.xmem.clear_memory()\n",
    "        masks, logits, painted_images = model.generator(images=images[0:5], template_mask=initial_mask)\n",
    "        model.xmem.clear_memory()  \n",
    "\n",
    "        if compute_metrics:\n",
    "            if verbose: print('Computing Metrics')\n",
    "            ground_truth_masks = load_all_masks_for_video(video)\n",
    "            for i,(mask_infered, mask_gt) in enumerate(zip(masks[1:],ground_truth_masks[1:])):\n",
    "                f_measure = compute_f_measure(mask_infered,mask_gt)\n",
    "                iou, iou_per_label = calculate_iou(mask_infered,mask_gt)\n",
    "                print(f'Mask {i}: f_mesure{f_measure}, iou {iou}, per label {iou_per_label}')\n",
    "                \n",
    "        if compute_video: \n",
    "            if verbose: print('Generating video')\n",
    "            generate_video_from_frames(painted_images, output_path=\"./result/track/{}.mp4\".format('Video1'), fps = 30) \n",
    "\n",
    "        if save_masks:\n",
    "            if verbose: print('Saving masks') \n",
    "            path_to_masks = './result/mask/{}'.format('Video1')\n",
    "            if not os.path.exists(path_to_masks): os.makedirs(path_to_masks)\n",
    "            for i,mask in enumerate(masks): np.save(os.path.join(path_to_masks, '{:05d}.npy'.format(i)), mask)\n",
    "                \n",
    "    return masks, logits, painted_images"
   ]
  },
  {
   "cell_type": "code",
   "execution_count": null,
   "metadata": {},
   "outputs": [],
   "source": [
    "SAM_checkpoint = \"./checkpoints/sam_vit_h_4b8939.pth\"\n",
    "xmem_checkpoint = \"./checkpoints/XMem-s012.pth\"\n",
    "e2fgvi_checkpoint = \"./checkpoints/E2FGVI-HQ-CVPR22.pth\"\n",
    "args = {'use_refinement':True}\n",
    "model = TrackingAnything(SAM_checkpoint, xmem_checkpoint, e2fgvi_checkpoint,args)"
   ]
  },
  {
   "cell_type": "code",
   "execution_count": null,
   "metadata": {},
   "outputs": [],
   "source": [
    "masks, logits, painted_images = run_model_on_ovis_set(model = model, path_set = ovis_images,videos = vidTrain[0:1],annotations = annTrain,compute_metrics = False, save_masks=False, compute_video=False)"
   ]
  },
  {
   "cell_type": "code",
   "execution_count": null,
   "metadata": {},
   "outputs": [],
   "source": [
    "SAM_checkpoint = \"./checkpoints/sam_vit_h_4b8939.pth\"\n",
    "xmem_checkpoint = \"./checkpoints/XMem-s012.pth\"\n",
    "e2fgvi_checkpoint = \"./checkpoints/E2FGVI-HQ-CVPR22.pth\"\n",
    "args = {'use_refinement':True}\n",
    "model = TrackingAnything(SAM_checkpoint, xmem_checkpoint, e2fgvi_checkpoint,args)"
   ]
  },
  {
   "cell_type": "code",
   "execution_count": null,
   "metadata": {},
   "outputs": [],
   "source": [
    "plt.imshow(painted_images[1])"
   ]
  },
  {
   "cell_type": "code",
   "execution_count": null,
   "metadata": {},
   "outputs": [],
   "source": [
    "plt.imshow(painted_images[1])\n",
    "plt.show()\n",
    "plt.imshow(painted_images[0])\n",
    "plt.show()"
   ]
  },
  {
   "cell_type": "code",
   "execution_count": null,
   "metadata": {},
   "outputs": [],
   "source": [
    "# Lee una imagen y la muestra en una ventanaovis_images + first_video_folder +'/img_0000001.jpg'\n",
    "img = cv2.imread(os.path.join(ovis_images + first_video_folder +'/img_0000001.jpg'))\n",
    "img = cv2.cvtColor(img, cv2.COLOR_BGR2RGB)\n",
    "plt.imshow(img)\n",
    "plt.axis('off')"
   ]
  },
  {
   "cell_type": "code",
   "execution_count": null,
   "metadata": {},
   "outputs": [],
   "source": [
    "colors = [\n",
    "    (255, 0, 0),    # Rojo\n",
    "    (0, 255, 0),    # Verde\n",
    "    (0, 0, 255),    # Azul\n",
    "    (255, 255, 0),  # Amarillo\n",
    "    (255, 0, 255),  # Magenta\n",
    "    (0, 255, 255),  # Cian\n",
    "    (128, 0, 0),    # Marrón oscuro\n",
    "    (0, 128, 0),    # Verde oscuro\n",
    "    (0, 0, 128),    # Azul oscuro\n",
    "    (128, 128, 0),  # Amarillo oscuro\n",
    "    (128, 0, 128),  # Magenta oscuro\n",
    "    (0, 128, 128),  # Cian oscuro\n",
    "    (255, 128, 0),  # Naranja\n",
    "    (128, 255, 0),  # Lima\n",
    "    (255, 0, 128),  # Rosa\n",
    "    (128, 0, 255),  # Violeta\n",
    "    (0, 255, 128),  # Turquesa\n",
    "    (0, 128, 255),  # Azul claro\n",
    "    (255, 128, 128), # Rosa claro\n",
    "    (128, 255, 128)  # Verde claro\n",
    "]"
   ]
  },
  {
   "cell_type": "code",
   "execution_count": null,
   "metadata": {},
   "outputs": [],
   "source": [
    "ann = []\n",
    "video = vidTrain[0]\n",
    "for a in annTrain:\n",
    "    if a['video_id'] == video['id']:\n",
    "        ann.append(a)\n",
    "        break\n",
    "    else: continue\n",
    "\n",
    "mask = annToMask(ann[0], 0)\n",
    "colored_mask = np.zeros((mask.shape[0], mask.shape[1], 3), dtype=np.uint8)\n",
    "colored_mask[:, :, 0] = mask * colors[0][0]\n",
    "colored_mask[:, :, 1] = mask * colors[0][1]\n",
    "colored_mask[:, :, 2] = mask * colors[0][2]\n",
    "plt.imshow(colored_mask)"
   ]
  },
  {
   "cell_type": "code",
   "execution_count": null,
   "metadata": {},
   "outputs": [],
   "source": [
    "ann = []\n",
    "for a in annTrain:\n",
    "    if a['video_id'] == video['id']:\n",
    "        ann.append(a)\n",
    "    else: continue\n",
    "\n",
    "masks = []\n",
    "for i,a in enumerate(ann):\n",
    "    m = annToMask(a, 0)\n",
    "    m = m * (i + 1)\n",
    "    masks.append(m)\n",
    "\n",
    "w, h = video['width'], video['height']\n",
    "unified = unifyMasks(masks, w, h)"
   ]
  },
  {
   "cell_type": "code",
   "execution_count": null,
   "metadata": {},
   "outputs": [],
   "source": [
    "model.xmem.clear_memory()\n",
    "masks, logits, painted_images = model.generator(images=images[0:5], template_mask=unified)\n",
    "model.xmem.clear_memory()"
   ]
  },
  {
   "cell_type": "code",
   "execution_count": null,
   "metadata": {},
   "outputs": [],
   "source": [
    "plt.imshow(painted_images[1])"
   ]
  },
  {
   "cell_type": "code",
   "execution_count": null,
   "metadata": {},
   "outputs": [],
   "source": [
    "def print_rgb_mask(mask):\n",
    "    colored_mask = np.zeros((mask.shape[0], mask.shape[1], 3), dtype=np.uint8)\n",
    "    colored_mask[:, :, 0] = mask * colors[0][0]\n",
    "    colored_mask[:, :, 1] = mask * colors[0][1]\n",
    "    colored_mask[:, :, 2] = mask * colors[0][2]\n",
    "    plt.imshow(colored_mask)\n",
    "    plt.show()\n",
    "    "
   ]
  },
  {
   "cell_type": "code",
   "execution_count": null,
   "metadata": {},
   "outputs": [],
   "source": [
    "print_rgb_mask(logits[29])"
   ]
  },
  {
   "cell_type": "code",
   "execution_count": null,
   "metadata": {},
   "outputs": [],
   "source": [
    "for i in range(0,9):\n",
    "    colored_mask = np.zeros((masks[i].shape[0], masks[i].shape[1], 3), dtype=np.uint8)\n",
    "    colored_mask[:, :, 0] = masks[i] * colors[0][0]\n",
    "    colored_mask[:, :, 1] = masks[i] * colors[0][1]\n",
    "    colored_mask[:, :, 2] = masks[i] * colors[0][2]\n",
    "    plt.imshow(colored_mask)\n",
    "    plt.show()"
   ]
  }
 ],
 "metadata": {
  "kernelspec": {
   "display_name": ".venvTA",
   "language": "python",
   "name": "python3"
  },
  "language_info": {
   "codemirror_mode": {
    "name": "ipython",
    "version": 3
   },
   "file_extension": ".py",
   "mimetype": "text/x-python",
   "name": "python",
   "nbconvert_exporter": "python",
   "pygments_lexer": "ipython3",
   "version": "3.11.1"
  },
  "orig_nbformat": 4
 },
 "nbformat": 4,
 "nbformat_minor": 2
}
