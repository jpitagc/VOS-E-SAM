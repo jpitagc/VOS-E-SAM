{
 "cells": [
  {
   "cell_type": "code",
   "execution_count": 1,
   "metadata": {},
   "outputs": [],
   "source": [
    "import sys\n",
    "import os\n",
    "\n",
    "sys.path.append(sys.path[0]+\"/tracker\")\n",
    "sys.path.append(sys.path[0]+\"/tracker/model\")\n",
    "\n",
    "from track_anything import TrackingAnything\n",
    "import random \n",
    "import string\n",
    "from dataset.dataset import DAVIS_MO_Test\n",
    "from tools.runner import run_model_on_davis_set\n"
   ]
  },
  {
   "cell_type": "code",
   "execution_count": 2,
   "metadata": {},
   "outputs": [],
   "source": [
    "# Change path to .datasets own folder \n",
    "if os.name == 'posix':\n",
    "    davis_root = '../data.nosync/DAVIS2017'\n",
    "else:\n",
    "    davis_root = 'D:\\HADA\\data\\DAVIS'\n",
    "\n"
   ]
  },
  {
   "cell_type": "code",
   "execution_count": 3,
   "metadata": {},
   "outputs": [],
   "source": [
    "SAM_checkpoint = \"./checkpoints/sam_vit_h_4b8939.pth\"\n",
    "if 'HQ' in sys.prefix.split('.')[-1]:SAM_checkpoint = \"./checkpoints/sam_hq_vit_h.pth\"\n",
    "xmem_checkpoint = \"./checkpoints/XMem-s012.pth\""
   ]
  },
  {
   "cell_type": "code",
   "execution_count": null,
   "metadata": {},
   "outputs": [
    {
     "name": "stdout",
     "output_type": "stream",
     "text": [
      "Reading file D:\\HADA\\data\\DAVIS\\ImageSets\\2017/val.txt\n",
      "Running Test: Refined_SAM_point_CP_Optimized_Davis_17_val_480p_oqLYr\n",
      "Initializing BaseSegmenter to cuda:0\n",
      "Hyperparameters read from the model weights: C^k=64, C^v=512, C^h=64\n",
      "Single object mode: False\n",
      "algorithm CP\n",
      "optimization activated\n",
      "Sam Refinement ACTIVATED. Mode: point\n"
     ]
    },
    {
     "name": "stderr",
     "output_type": "stream",
     "text": [
      "Tracking image:  77%|███████▋  | 53/69 [00:16<00:05,  3.14it/s]"
     ]
    }
   ],
   "source": [
    "runtimeargs_lst = [ \n",
    "{\n",
    "    'DatasetArgs' :{\n",
    "        'Dataset' : 'Davis',\n",
    "        'Year' : 17,\n",
    "        'Set' : 'val',\n",
    "        'Resolution': '480p'\n",
    "    },\n",
    "    'TrackingAnythingArgs' : {\n",
    "            'use_refinement' : True,\n",
    "            'refinement_mode' : 'point',\n",
    "            'addArgs1':'CP',\n",
    "            'optimized':True,\n",
    "    }\n",
    "},{\n",
    "    'DatasetArgs' :{\n",
    "        'Dataset' : 'Davis',\n",
    "        'Year' : 17,\n",
    "        'Set' : 'val',\n",
    "        'Resolution': '480p'\n",
    "    },\n",
    "    'TrackingAnythingArgs' : {\n",
    "            'use_refinement' : False,\n",
    "            'refinement_mode' : 'bbox',\n",
    "            'addArgs1':'CP',\n",
    "            'optimized':False,\n",
    "    }\n",
    "},{\n",
    "    'DatasetArgs' :{\n",
    "        'Dataset' : 'Davis',\n",
    "        'Year' : 17,\n",
    "        'Set' : 'val',\n",
    "        'Resolution': '480p'\n",
    "    },\n",
    "    'TrackingAnythingArgs' : {\n",
    "            'use_refinement' : True,\n",
    "            'refinement_mode' : 'mask_bbox',\n",
    "            'addArgs1':'CP',\n",
    "            'optimized':False,\n",
    "    }\n",
    "},{\n",
    "    'DatasetArgs' :{\n",
    "        'Dataset' : 'Davis',\n",
    "        'Year' : 17,\n",
    "        'Set' : 'val',\n",
    "        'Resolution': '480p'\n",
    "    },\n",
    "    'TrackingAnythingArgs' : {\n",
    "            'use_refinement' : True,\n",
    "            'refinement_mode' : 'both',\n",
    "            'addArgs1':'CP',\n",
    "            'optimized':False,\n",
    "    }\n",
    "},{\n",
    "    'DatasetArgs' :{\n",
    "        'Dataset' : 'Davis',\n",
    "        'Year' : 17,\n",
    "        'Set' : 'val',\n",
    "        'Resolution': '480p'\n",
    "    },\n",
    "    'TrackingAnythingArgs' : {\n",
    "            'use_refinement' : True,\n",
    "            'refinement_mode' : 'both_neg',\n",
    "            'addArgs1':'CP',\n",
    "            'optimized':False,\n",
    "    }\n",
    "}]\n",
    "resolution = runtimeargs_lst[0]['DatasetArgs']['Resolution']\n",
    "year = runtimeargs_lst[0]['DatasetArgs']['Year']\n",
    "data_set = runtimeargs_lst[0]['DatasetArgs']['Set']\n",
    "VideoLoader = DAVIS_MO_Test(davis_root, resolution=resolution, imset='20{}/{}.txt'.format(year,data_set), single_object=(year==16))\n",
    "\n",
    "for runtimeargs in runtimeargs_lst:\n",
    "    runname = '{}{}{}{}_{}_{}_{}'.format(\n",
    "    'Refined' if runtimeargs['TrackingAnythingArgs']['use_refinement']  else 'XMEM',\n",
    "    '_HQ' if 'HQ' in sys.prefix.split('.')[-1] and runtimeargs['TrackingAnythingArgs']['use_refinement'] else '_SAM' if runtimeargs['TrackingAnythingArgs']['use_refinement'] else  '',\n",
    "    '_'+ runtimeargs['TrackingAnythingArgs']['refinement_mode'] if runtimeargs['TrackingAnythingArgs']['use_refinement'] else '',\n",
    "    '_' + runtimeargs['TrackingAnythingArgs']['addArgs1'] if runtimeargs['TrackingAnythingArgs']['use_refinement'] and runtimeargs['TrackingAnythingArgs']['addArgs1'] != '' else '',\n",
    "    'Optimized' if runtimeargs['TrackingAnythingArgs']['use_refinement'] and runtimeargs['TrackingAnythingArgs']['optimized'] else 'NONOptimized' if runtimeargs['TrackingAnythingArgs']['use_refinement'] else '',\n",
    "    'Davis_{}_{}_{}'.format(runtimeargs['DatasetArgs']['Year'],runtimeargs['DatasetArgs']['Set'],runtimeargs['DatasetArgs']['Resolution']) if runtimeargs['DatasetArgs']['Dataset'] == 'Davis' else runtimeargs['DatasetArgs']['Dataset'],\n",
    "    ''.join(random.choice(string.ascii_letters) for _ in range(5))\n",
    "    )\n",
    "    print(f'Running Test: {runname}')\n",
    "    model = TrackingAnything(SAM_checkpoint, xmem_checkpoint, None,runtimeargs['TrackingAnythingArgs'], save_inner_masks_folder = runname)\n",
    "    masks, logits, painted_images = run_model_on_davis_set(name = runname,model = model,videoLoader = VideoLoader,compute_metrics = True, save_masks=True, compute_video=True,verbose = False)"
   ]
  }
 ],
 "metadata": {
  "kernelspec": {
   "display_name": ".venvTA",
   "language": "python",
   "name": "python3"
  },
  "language_info": {
   "codemirror_mode": {
    "name": "ipython",
    "version": 3
   },
   "file_extension": ".py",
   "mimetype": "text/x-python",
   "name": "python",
   "nbconvert_exporter": "python",
   "pygments_lexer": "ipython3",
   "version": "3.11.9"
  }
 },
 "nbformat": 4,
 "nbformat_minor": 2
}
