{
 "cells": [
  {
   "cell_type": "code",
   "execution_count": 1,
   "metadata": {},
   "outputs": [],
   "source": [
    "import sys\n",
    "import os\n",
    "\n",
    "sys.path.append(sys.path[0]+\"/tracker\")\n",
    "sys.path.append(sys.path[0]+\"/tracker/model\")\n",
    "\n",
    "from track_anything import TrackingAnything\n",
    "import random \n",
    "import string\n",
    "from dataset.longdataset import LongVideoDataset\n",
    "from tools.runner import run_model_on_longdata_set\n"
   ]
  },
  {
   "cell_type": "code",
   "execution_count": 2,
   "metadata": {},
   "outputs": [],
   "source": [
    "# Change path to .datasets own folder \n",
    "if os.name == 'posix':\n",
    "    longdataset_root = '../data.nosync/LongDataset/'\n",
    "\n",
    "else:\n",
    "    longdataset_root = 'D:/HADA/data/LongDataset/'\n"
   ]
  },
  {
   "cell_type": "code",
   "execution_count": 3,
   "metadata": {},
   "outputs": [],
   "source": [
    "SAM_checkpoint = \"./checkpoints/sam_vit_h_4b8939.pth\"\n",
    "if 'HQ' in sys.prefix.split('.')[-1]:SAM_checkpoint = \"./checkpoints/sam_hq_vit_h.pth\"\n",
    "xmem_checkpoint = \"./checkpoints/XMem-s012.pth\""
   ]
  },
  {
   "cell_type": "code",
   "execution_count": null,
   "metadata": {},
   "outputs": [],
   "source": [
    "runtimeargs_lst = [{\n",
    "    'DatasetArgs' :{\n",
    "        'Dataset' : 'LongDataset',\n",
    "        'Set' : 'val',\n",
    "    },\n",
    "    'TrackingAnythingArgs' : {\n",
    "            'use_refinement' : False,\n",
    "            'refinement_mode' : 'both_neg',\n",
    "            'addArgs1':'CP',\n",
    "            'optimized':False,\n",
    "    }\n",
    "},{\n",
    "    'DatasetArgs' :{\n",
    "        'Dataset' : 'LongDataset',\n",
    "        'Set' : 'val',\n",
    "    },\n",
    "    'TrackingAnythingArgs' : {\n",
    "            'use_refinement' : True,\n",
    "            'refinement_mode' : 'both_neg',\n",
    "            'addArgs1':'CP',\n",
    "            'optimized':False,\n",
    "    }\n",
    "},{\n",
    "    'DatasetArgs' :{\n",
    "        'Dataset' : 'LongDataset',\n",
    "        'Set' : 'val',\n",
    "    },\n",
    "    'TrackingAnythingArgs' : {\n",
    "            'use_refinement' : True,\n",
    "            'refinement_mode' : 'both_neg',\n",
    "            'addArgs1':'CP',\n",
    "            'optimized':True,\n",
    "    }\n",
    "}]\n",
    "\n",
    "VideoLoader = LongVideoDataset(root_folder=longdataset_root, filelist= runtimeargs_lst[0]['DatasetArgs']['Set']+'.txt')\n",
    "\n",
    "for runtimeargs in runtimeargs_lst:\n",
    "    runname = '{}{}{}{}_{}_{}_{}'.format(\n",
    "        'Refined' if runtimeargs['TrackingAnythingArgs']['use_refinement']  else 'XMEM',\n",
    "        '_HQ' if 'HQ' in sys.prefix.split('.')[-1] and runtimeargs['TrackingAnythingArgs']['use_refinement'] else '_SAM' if runtimeargs['TrackingAnythingArgs']['use_refinement'] else  '',\n",
    "        '_'+ runtimeargs['TrackingAnythingArgs']['refinement_mode'] if runtimeargs['TrackingAnythingArgs']['use_refinement'] else '',\n",
    "        '_' + runtimeargs['TrackingAnythingArgs']['addArgs1'] if runtimeargs['TrackingAnythingArgs']['use_refinement'] and runtimeargs['TrackingAnythingArgs']['addArgs1'] != '' else '',\n",
    "        'Optimized' if runtimeargs['TrackingAnythingArgs']['use_refinement'] and runtimeargs['TrackingAnythingArgs']['optimized'] else 'NONOptimized' if runtimeargs['TrackingAnythingArgs']['use_refinement'] else '',\n",
    "        'Davis_{}_{}_{}'.format(runtimeargs['DatasetArgs']['Year'],runtimeargs['DatasetArgs']['Set'],runtimeargs['DatasetArgs']['Resolution']) if runtimeargs['DatasetArgs']['Dataset'] == 'Davis' else runtimeargs['DatasetArgs']['Dataset'],\n",
    "        ''.join(random.choice(string.ascii_letters) for _ in range(5))\n",
    "    )\n",
    "    print(f'Running Test: {runname}')\n",
    "    model = TrackingAnything(SAM_checkpoint, xmem_checkpoint, None,runtimeargs['TrackingAnythingArgs'], save_inner_masks_folder = runname)\n",
    "    masks, logits, painted_images = run_model_on_longdata_set(name = runname,model = model,videoLoader = VideoLoader,compute_metrics = True, save_masks=False, compute_video=False,verbose = False)"
   ]
  }
 ],
 "metadata": {
  "kernelspec": {
   "display_name": ".venvTA",
   "language": "python",
   "name": "python3"
  },
  "language_info": {
   "codemirror_mode": {
    "name": "ipython",
    "version": 3
   },
   "file_extension": ".py",
   "mimetype": "text/x-python",
   "name": "python",
   "nbconvert_exporter": "python",
   "pygments_lexer": "ipython3",
   "version": "3.11.9"
  }
 },
 "nbformat": 4,
 "nbformat_minor": 2
}
