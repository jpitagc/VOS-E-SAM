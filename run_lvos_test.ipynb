{
 "cells": [
  {
   "cell_type": "code",
   "execution_count": 1,
   "metadata": {},
   "outputs": [],
   "source": [
    "import sys\n",
    "import os\n",
    "\n",
    "sys.path.append(sys.path[0]+\"/tracker\")\n",
    "sys.path.append(sys.path[0]+\"/tracker/model\")\n",
    "\n",
    "from track_anything import TrackingAnything\n",
    "import random \n",
    "import string\n",
    "from dataset.longdataset import LongVideoDataset\n",
    "from tools.runner import run_model_on_longdata_set\n"
   ]
  },
  {
   "cell_type": "code",
   "execution_count": 2,
   "metadata": {},
   "outputs": [],
   "source": [
    "if os.name == 'posix':\n",
    "    longdataset_root = '../data.nosync/LongDataset/'\n",
    "\n",
    "else:\n",
    "    longdataset_root = 'D:/HADA/data/LongDataset/'\n"
   ]
  },
  {
   "cell_type": "code",
   "execution_count": 3,
   "metadata": {},
   "outputs": [],
   "source": [
    "SAM_checkpoint = \"./checkpoints/sam_vit_h_4b8939.pth\"\n",
    "if 'HQ' in sys.prefix.split('.')[-1]:SAM_checkpoint = \"./checkpoints/sam_hq_vit_h.pth\"\n",
    "xmem_checkpoint = \"./checkpoints/XMem-s012.pth\""
   ]
  },
  {
   "cell_type": "code",
   "execution_count": 4,
   "metadata": {},
   "outputs": [
    {
     "name": "stdout",
     "output_type": "stream",
     "text": [
      "Seq names: ['rat', 'dressage', 'blueboy']\n",
      "Running Test: Refined_SAM_both_neg_CP_LongDataset_jsjUq\n",
      "Initializing BaseSegmenter to cuda:0\n",
      "Hyperparameters read from the model weights: C^k=64, C^v=512, C^h=64\n",
      "Single object mode: False\n",
      "algorithmCP\n",
      "Sam Refinement ACTIVATED. Mode: both_neg\n"
     ]
    },
    {
     "name": "stderr",
     "output_type": "stream",
     "text": [
      "Tracking image:   2%|▏         | 33/1416 [00:09<06:36,  3.49it/s]"
     ]
    },
    {
     "ename": "",
     "evalue": "",
     "output_type": "error",
     "traceback": [
      "\u001b[1;31mThe Kernel crashed while executing code in the current cell or a previous cell. \n",
      "\u001b[1;31mPlease review the code in the cell(s) to identify a possible cause of the failure. \n",
      "\u001b[1;31mClick <a href='https://aka.ms/vscodeJupyterKernelCrash'>here</a> for more info. \n",
      "\u001b[1;31mView Jupyter <a href='command:jupyter.viewOutput'>log</a> for further details."
     ]
    }
   ],
   "source": [
    "runtimeargs = {\n",
    "    'DatasetArgs' :{\n",
    "        'Dataset' : 'LongDataset',\n",
    "        'Set' : 'val',\n",
    "    },\n",
    "    'TrackingAnythingArgs' : {\n",
    "            'use_refinement' : True,\n",
    "            'refinement_mode' : 'both_neg',\n",
    "            'addArgs1':'CP'\n",
    "    }\n",
    "}\n",
    "\n",
    "VideoLoader = LongVideoDataset(root_folder=longdataset_root, filelist= runtimeargs['DatasetArgs']['Set']+'.txt')\n",
    "runname = '{}{}{}{}_{}_{}'.format(\n",
    "    'Refined' if runtimeargs['TrackingAnythingArgs']['use_refinement']  else 'XMEM',\n",
    "    '_HQ' if 'HQ' in sys.prefix.split('.')[-1] else '_SAM',\n",
    "    '_'+ runtimeargs['TrackingAnythingArgs']['refinement_mode'] if runtimeargs['TrackingAnythingArgs']['use_refinement'] else '',\n",
    "    '_' + runtimeargs['TrackingAnythingArgs']['addArgs1'] if runtimeargs['TrackingAnythingArgs']['use_refinement'] and runtimeargs['TrackingAnythingArgs']['addArgs1'] != '' else '',\n",
    "    'Davis_{}_{}_{}'.format(runtimeargs['DatasetArgs']['Year'],runtimeargs['DatasetArgs']['Set'],runtimeargs['DatasetArgs']['Resolution']) if runtimeargs['DatasetArgs']['Dataset'] == 'Davis' else runtimeargs['DatasetArgs']['Dataset'],\n",
    "    ''.join(random.choice(string.ascii_letters) for _ in range(5))\n",
    ")\n",
    "print(f'Running Test: {runname}')\n",
    "xmem_checkpoint = 'checkpoints\\XMem.pth'\n",
    "model = TrackingAnything(SAM_checkpoint, xmem_checkpoint, None,runtimeargs['TrackingAnythingArgs'], save_inner_masks_folder = runname)\n",
    "masks, logits, painted_images = run_model_on_longdata_set(name = runname,model = model,videoLoader = VideoLoader,compute_metrics = True, save_masks=False, compute_video=False,verbose = False)"
   ]
  }
 ],
 "metadata": {
  "kernelspec": {
   "display_name": ".venvTA",
   "language": "python",
   "name": "python3"
  },
  "language_info": {
   "codemirror_mode": {
    "name": "ipython",
    "version": 3
   },
   "file_extension": ".py",
   "mimetype": "text/x-python",
   "name": "python",
   "nbconvert_exporter": "python",
   "pygments_lexer": "ipython3",
   "version": "3.11.9"
  }
 },
 "nbformat": 4,
 "nbformat_minor": 2
}
