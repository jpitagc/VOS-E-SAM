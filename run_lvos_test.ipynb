{
 "cells": [
  {
   "cell_type": "code",
   "execution_count": 5,
   "metadata": {},
   "outputs": [],
   "source": [
    "import sys\n",
    "import os\n",
    "\n",
    "sys.path.append(sys.path[0]+\"/tracker\")\n",
    "sys.path.append(sys.path[0]+\"/tracker/model\")\n",
    "\n",
    "from track_anything import TrackingAnything\n",
    "import random \n",
    "import string\n",
    "from dataset.longdataset import LongVideoDataset\n",
    "from tools.runner import run_model_on_longVOS_set"
   ]
  },
  {
   "cell_type": "code",
   "execution_count": 2,
   "metadata": {},
   "outputs": [],
   "source": [
    "# Change path to .datasets own folder \n",
    "if os.name == 'posix':\n",
    "    longvos_root = '../data.nosync/LongVOS/test'\n",
    "else:\n",
    "    longvos_root = 'D:\\HADA\\data/LongVOS/test'\n"
   ]
  },
  {
   "cell_type": "code",
   "execution_count": 6,
   "metadata": {},
   "outputs": [],
   "source": [
    "SAM_checkpoint = \"./checkpoints/sam_vit_h_4b8939.pth\"\n",
    "if 'HQ' in sys.prefix.split('.')[-1]:SAM_checkpoint = \"./checkpoints/sam_hq_vit_h.pth\"\n",
    "xmem_checkpoint = \"./checkpoints/XMem-s012.pth\""
   ]
  },
  {
   "cell_type": "code",
   "execution_count": 7,
   "metadata": {},
   "outputs": [
    {
     "name": "stdout",
     "output_type": "stream",
     "text": [
      "Seq names: ['TVfoBiU2', 'R3UJGYwy', '81Oju1e7', 'JefVS4hq', 'FmzvB44A', 'shW04XAm', 'PhiOlFlA', 'w3XiaDdm', 'gUca15ef', 'gw84JOqH', 'bDv75KJl', 'irsQQbUO', 'B9fFIrgq', 'YMRntd88', 'T4pEUdxQ', 'UtEnRpiP', 'RCgebO9V', 'ealukzgh', 'LWVlKBlK', 'UBITNvZb', 'qeD7QcDW', 'Oj1z5fO0', 'Y6tOZtQV', 'UykV25jo', '6mNj04tC', 'GmfSNNa3', 'AIv9mv7T', 'aSNxf5ms', '58jpr19X', 'Kz1wgslb', '058oeZ2p', 'vlKROEmy', '5NImTLT6', 'T9woxlyM', '8kv99Cop', 'yxCvN6OJ', 'xL5OHe3Y', 'yfzVCnvU', 'HQ2UJdrW', 'Gz3GEPPC', 'tAyQIobn', 'yWnanBID', '7im4LEcb', '711gAS21', 'YHUoFe2u', '5VwnMLaz', 'MI0uwoMt', 'R4xwHrdP', 'GchnEETZ', 'PQPOuFNO']\n",
      "Running Test: XMEM_SAM_LongVOS_uLiys\n",
      "Initializing BaseSegmenter to cuda:0\n",
      "Hyperparameters read from the model weights: C^k=64, C^v=512, C^h=64\n",
      "Single object mode: False\n",
      "Point Type convertion not specified\n"
     ]
    },
    {
     "name": "stderr",
     "output_type": "stream",
     "text": [
      "Tracking image:  11%|█         | 56/498 [00:04<00:29, 14.83it/s]"
     ]
    },
    {
     "ename": "",
     "evalue": "",
     "output_type": "error",
     "traceback": [
      "\u001b[1;31mThe Kernel crashed while executing code in the current cell or a previous cell. \n",
      "\u001b[1;31mPlease review the code in the cell(s) to identify a possible cause of the failure. \n",
      "\u001b[1;31mClick <a href='https://aka.ms/vscodeJupyterKernelCrash'>here</a> for more info. \n",
      "\u001b[1;31mView Jupyter <a href='command:jupyter.viewOutput'>log</a> for further details."
     ]
    }
   ],
   "source": [
    "runtimeargs_lst = [ \n",
    "{\n",
    "    'DatasetArgs' :{\n",
    "        'Dataset' : 'LongVOS',\n",
    "        'Set' : 'test',\n",
    "    },\n",
    "      'TrackingAnythingArgs' : {\n",
    "            'use_refinement' : False,\n",
    "            'refinement_mode' : '_',\n",
    "            'addArgs1':'_'\n",
    "    }\n",
    "}]\n",
    "VideoLoader = LongVideoDataset(root_folder=longvos_root, filelist= f\"{runtimeargs_lst[0]['DatasetArgs']['Set']}.txt\")\n",
    "for runtimeargs in runtimeargs_lst:\n",
    "    runname = '{}{}{}{}_{}_{}'.format(\n",
    "        'Refined' if runtimeargs['TrackingAnythingArgs']['use_refinement']  else 'XMEM',\n",
    "        '_HQ' if 'HQ' in sys.prefix.split('.')[-1] else '_SAM',\n",
    "        '_'+ runtimeargs['TrackingAnythingArgs']['refinement_mode'] if runtimeargs['TrackingAnythingArgs']['use_refinement'] else '',\n",
    "        '_' + runtimeargs['TrackingAnythingArgs']['addArgs1'] if runtimeargs['TrackingAnythingArgs']['use_refinement'] and runtimeargs['TrackingAnythingArgs']['addArgs1'] != '' else '',\n",
    "        'Davis_{}_{}_{}'.format(runtimeargs['DatasetArgs']['Year'],runtimeargs['DatasetArgs']['Set'],runtimeargs['DatasetArgs']['Resolution']) if runtimeargs['DatasetArgs']['Dataset'] == 'Davis' else runtimeargs['DatasetArgs']['Dataset'],\n",
    "        ''.join(random.choice(string.ascii_letters) for _ in range(5))\n",
    "    )\n",
    "    print(f'Running Test: {runname}')\n",
    "    model = TrackingAnything(SAM_checkpoint, xmem_checkpoint, None,runtimeargs['TrackingAnythingArgs'], save_inner_masks_folder = runname)\n",
    "    masks, logits, painted_images = run_model_on_longVOS_set(name = runname,model = model,videoLoader = VideoLoader,compute_metrics = False, save_masks=True, compute_video=True,verbose = False)"
   ]
  }
 ],
 "metadata": {
  "language_info": {
   "name": "python"
  }
 },
 "nbformat": 4,
 "nbformat_minor": 2
}
